{
 "cells": [
  {
   "cell_type": "code",
   "execution_count": 20,
   "id": "f346f9b7",
   "metadata": {},
   "outputs": [],
   "source": [
    "a=10"
   ]
  },
  {
   "cell_type": "code",
   "execution_count": 2,
   "id": "a9c5d00b",
   "metadata": {
    "scrolled": false
   },
   "outputs": [
    {
     "data": {
      "text/plain": [
       "10"
      ]
     },
     "execution_count": 2,
     "metadata": {},
     "output_type": "execute_result"
    }
   ],
   "source": [
    "a"
   ]
  },
  {
   "cell_type": "code",
   "execution_count": 3,
   "id": "b121f4bc",
   "metadata": {
    "scrolled": true
   },
   "outputs": [
    {
     "name": "stdout",
     "output_type": "stream",
     "text": [
      "10\n"
     ]
    }
   ],
   "source": [
    "print(a)"
   ]
  },
  {
   "cell_type": "code",
   "execution_count": 6,
   "id": "84d5eb73",
   "metadata": {},
   "outputs": [
    {
     "name": "stdout",
     "output_type": "stream",
     "text": [
      "The value of'a'is 10\n"
     ]
    }
   ],
   "source": [
    "print(\"The value of'a'is\",format(a))"
   ]
  },
  {
   "cell_type": "code",
   "execution_count": 12,
   "id": "5ee2a5cd",
   "metadata": {},
   "outputs": [],
   "source": [
    "a=\"mano\""
   ]
  },
  {
   "cell_type": "code",
   "execution_count": 13,
   "id": "45636b0e",
   "metadata": {
    "scrolled": true
   },
   "outputs": [
    {
     "data": {
      "text/plain": [
       "'mano'"
      ]
     },
     "execution_count": 13,
     "metadata": {},
     "output_type": "execute_result"
    }
   ],
   "source": [
    "a"
   ]
  },
  {
   "cell_type": "code",
   "execution_count": 14,
   "id": "103d9445",
   "metadata": {
    "scrolled": true
   },
   "outputs": [
    {
     "name": "stdout",
     "output_type": "stream",
     "text": [
      "mano\n"
     ]
    }
   ],
   "source": [
    "print(a)"
   ]
  },
  {
   "cell_type": "code",
   "execution_count": 18,
   "id": "ab61ca2c",
   "metadata": {
    "scrolled": false
   },
   "outputs": [
    {
     "name": "stdout",
     "output_type": "stream",
     "text": [
      "My Name is mano\n"
     ]
    }
   ],
   "source": [
    "print(\"My Name is\",format(a))"
   ]
  },
  {
   "cell_type": "code",
   "execution_count": 19,
   "id": "3970464e",
   "metadata": {
    "scrolled": true
   },
   "outputs": [
    {
     "name": "stdout",
     "output_type": "stream",
     "text": [
      "My Name is (mano).Iam in PMIST\n"
     ]
    }
   ],
   "source": [
    "print(\"My Name is (mano).Iam in PMIST\".format(name='mano',collage=\"PMIST\"))"
   ]
  },
  {
   "cell_type": "code",
   "execution_count": 28,
   "id": "ac8e3348",
   "metadata": {
    "scrolled": false
   },
   "outputs": [
    {
     "name": "stdout",
     "output_type": "stream",
     "text": [
      "My Name is PMIST.Iam in mano\n"
     ]
    }
   ],
   "source": [
    "print(\"My Name is {}.Iam in {}\".format('PMIST',\"mano\"))"
   ]
  },
  {
   "cell_type": "markdown",
   "id": "513f7262",
   "metadata": {},
   "source": [
    "# F-PRINT"
   ]
  },
  {
   "cell_type": "code",
   "execution_count": 33,
   "id": "81f2a39f",
   "metadata": {
    "scrolled": true
   },
   "outputs": [
    {
     "name": "stdout",
     "output_type": "stream",
     "text": [
      "My Name is mano.Iam Robotics engineer\n"
     ]
    }
   ],
   "source": [
    "print(f\"My Name is {'mano'}.Iam {'Robotics'} engineer\")"
   ]
  },
  {
   "cell_type": "markdown",
   "id": "dc9a787c",
   "metadata": {},
   "source": [
    "# TASK1"
   ]
  },
  {
   "cell_type": "markdown",
   "id": "c0dbe1ac",
   "metadata": {},
   "source": [
    "# She sell\"sea\"shell in \"sea shore\""
   ]
  },
  {
   "cell_type": "code",
   "execution_count": 44,
   "id": "d2cd726a",
   "metadata": {},
   "outputs": [
    {
     "name": "stdout",
     "output_type": "stream",
     "text": [
      "she sell sea sell in sea shore\n"
     ]
    }
   ],
   "source": [
    "print(\"she {} sea sell in {}\".format(\"sell\",\"sea shore\"))"
   ]
  },
  {
   "cell_type": "markdown",
   "id": "1e689b4d",
   "metadata": {},
   "source": [
    "# USER INPUT"
   ]
  },
  {
   "cell_type": "code",
   "execution_count": 48,
   "id": "c4b32419",
   "metadata": {},
   "outputs": [
    {
     "name": "stdout",
     "output_type": "stream",
     "text": [
      "27\n"
     ]
    }
   ],
   "source": [
    "var=input()"
   ]
  },
  {
   "cell_type": "code",
   "execution_count": 38,
   "id": "4bb1385c",
   "metadata": {},
   "outputs": [
    {
     "data": {
      "text/plain": [
       "'27'"
      ]
     },
     "execution_count": 38,
     "metadata": {},
     "output_type": "execute_result"
    }
   ],
   "source": [
    "var"
   ]
  },
  {
   "cell_type": "code",
   "execution_count": 45,
   "id": "b2439479",
   "metadata": {},
   "outputs": [
    {
     "name": "stdout",
     "output_type": "stream",
     "text": [
      "enter your namesmiley\n"
     ]
    }
   ],
   "source": [
    "var=input(\"enter your name\")"
   ]
  },
  {
   "cell_type": "code",
   "execution_count": 46,
   "id": "86e70769",
   "metadata": {},
   "outputs": [
    {
     "data": {
      "text/plain": [
       "'smiley'"
      ]
     },
     "execution_count": 46,
     "metadata": {},
     "output_type": "execute_result"
    }
   ],
   "source": [
    "var"
   ]
  },
  {
   "cell_type": "code",
   "execution_count": 47,
   "id": "1e9ea420",
   "metadata": {},
   "outputs": [
    {
     "data": {
      "text/plain": [
       "str"
      ]
     },
     "execution_count": 47,
     "metadata": {},
     "output_type": "execute_result"
    }
   ],
   "source": [
    "type(var)"
   ]
  },
  {
   "cell_type": "code",
   "execution_count": null,
   "id": "e50d9f7a",
   "metadata": {},
   "outputs": [],
   "source": []
  }
 ],
 "metadata": {
  "kernelspec": {
   "display_name": "Python 3 (ipykernel)",
   "language": "python",
   "name": "python3"
  },
  "language_info": {
   "codemirror_mode": {
    "name": "ipython",
    "version": 3
   },
   "file_extension": ".py",
   "mimetype": "text/x-python",
   "name": "python",
   "nbconvert_exporter": "python",
   "pygments_lexer": "ipython3",
   "version": "3.9.17"
  }
 },
 "nbformat": 4,
 "nbformat_minor": 5
}

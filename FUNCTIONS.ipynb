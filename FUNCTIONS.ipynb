{
 "cells": [
  {
   "cell_type": "markdown",
   "id": "25d28ca2",
   "metadata": {},
   "source": [
    "\n",
    "# FUNCTION"
   ]
  },
  {
   "cell_type": "code",
   "execution_count": null,
   "id": "dc3178a2",
   "metadata": {},
   "outputs": [],
   "source": [
    "def <function_name>(parameters);\n",
    "    statements\n",
    "    <statement(s)"
   ]
  },
  {
   "cell_type": "code",
   "execution_count": 13,
   "id": "029fb4be",
   "metadata": {},
   "outputs": [],
   "source": [
    "def Add():\n",
    "    print(\"enter the value for addition\")\n",
    "    a=int(input(\"enter number1:\"))\n",
    "    b=int(input(\"enter number2:\"))\n",
    "    c=a+b\n",
    "    print(f\"The value of c is :{c}\")"
   ]
  },
  {
   "cell_type": "code",
   "execution_count": 14,
   "id": "90938800",
   "metadata": {},
   "outputs": [
    {
     "name": "stdout",
     "output_type": "stream",
     "text": [
      "enter the value for addition\n",
      "enter number1:27\n",
      "enter number2:17\n",
      "The value of c is :44\n"
     ]
    }
   ],
   "source": [
    "Add()"
   ]
  },
  {
   "cell_type": "code",
   "execution_count": 5,
   "id": "f2277f5f",
   "metadata": {},
   "outputs": [],
   "source": [
    "def eligiblity(age):\n",
    "    if age>=18:\n",
    "              print(\"you are eligible for voting\")\n",
    "    else:\n",
    "        print(\"you are not eligible for voting\")\n",
    "        "
   ]
  },
  {
   "cell_type": "code",
   "execution_count": 6,
   "id": "c920ec2e",
   "metadata": {},
   "outputs": [
    {
     "name": "stdout",
     "output_type": "stream",
     "text": [
      "you are not eligible for voting\n"
     ]
    }
   ],
   "source": [
    "eligiblity(10)"
   ]
  }
 ],
 "metadata": {
  "kernelspec": {
   "display_name": "Python 3 (ipykernel)",
   "language": "python",
   "name": "python3"
  },
  "language_info": {
   "codemirror_mode": {
    "name": "ipython",
    "version": 3
   },
   "file_extension": ".py",
   "mimetype": "text/x-python",
   "name": "python",
   "nbconvert_exporter": "python",
   "pygments_lexer": "ipython3",
   "version": "3.9.17"
  }
 },
 "nbformat": 4,
 "nbformat_minor": 5
}

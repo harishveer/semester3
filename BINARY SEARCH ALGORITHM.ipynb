{
 "cells": [
  {
   "cell_type": "code",
   "execution_count": 21,
   "id": "b68500e5",
   "metadata": {},
   "outputs": [],
   "source": [
    "data=[56,27,85,96,35,28]"
   ]
  },
  {
   "cell_type": "code",
   "execution_count": 22,
   "id": "d6699a4f",
   "metadata": {},
   "outputs": [],
   "source": [
    "data.sort()"
   ]
  },
  {
   "cell_type": "code",
   "execution_count": 23,
   "id": "0f9c9885",
   "metadata": {},
   "outputs": [
    {
     "name": "stdout",
     "output_type": "stream",
     "text": [
      "[27, 28, 35, 56, 85, 96]\n"
     ]
    }
   ],
   "source": [
    "print(data)"
   ]
  },
  {
   "cell_type": "code",
   "execution_count": 25,
   "id": "7b2ab481",
   "metadata": {},
   "outputs": [
    {
     "name": "stdout",
     "output_type": "stream",
     "text": [
      "enter the search element:27\n"
     ]
    }
   ],
   "source": [
    "elem=int(input(\"enter the search element:\"))"
   ]
  },
  {
   "cell_type": "code",
   "execution_count": 26,
   "id": "646050c5",
   "metadata": {},
   "outputs": [],
   "source": [
    " def binary_search(data,elem):\n",
    "        low=0\n",
    "        high=len(data)-1\n",
    "        \n",
    "        while low <=high:\n",
    "            middle =(low +high)//2\n",
    "            \n",
    "            if data[middle]==elem:\n",
    "                print(f\"The searching element {elem} is present at index value {middle} in dataset\")\n",
    "                break\n",
    "            elif data[middle] >elem:\n",
    "                high = middle -1\n",
    "            else: \n",
    "                low = middle +1\n",
    "            if  data[middle]==elem:\n",
    "                print(f\"The searching element {elem} is not present in the dataset\")\n",
    "                return\n",
    "        "
   ]
  },
  {
   "cell_type": "code",
   "execution_count": 27,
   "id": "795b93bc",
   "metadata": {},
   "outputs": [
    {
     "name": "stdout",
     "output_type": "stream",
     "text": [
      "The searching element 27 is present at index value 0 in dataset\n"
     ]
    }
   ],
   "source": [
    "binary_search(data,elem)"
   ]
  },
  {
   "cell_type": "markdown",
   "id": "a8a63819",
   "metadata": {},
   "source": [
    "# BUBBLE SORT ALGORITHM 1"
   ]
  },
  {
   "cell_type": "code",
   "execution_count": 28,
   "id": "fb055ca9",
   "metadata": {},
   "outputs": [],
   "source": [
    "data=[10,20,12,4,-2,-54,-11,40]"
   ]
  },
  {
   "cell_type": "code",
   "execution_count": 32,
   "id": "09ad915f",
   "metadata": {},
   "outputs": [
    {
     "data": {
      "text/plain": [
       "[10, 20, 12, 4, -2, -54, -11, 40]"
      ]
     },
     "execution_count": 32,
     "metadata": {},
     "output_type": "execute_result"
    }
   ],
   "source": [
    "data"
   ]
  },
  {
   "cell_type": "code",
   "execution_count": 33,
   "id": "f7a05226",
   "metadata": {},
   "outputs": [
    {
     "data": {
      "text/plain": [
       "8"
      ]
     },
     "execution_count": 33,
     "metadata": {},
     "output_type": "execute_result"
    }
   ],
   "source": [
    "len(data)"
   ]
  },
  {
   "cell_type": "code",
   "execution_count": 37,
   "id": "001bfc50",
   "metadata": {},
   "outputs": [],
   "source": [
    "def bubble_sort(data):\n",
    "    \n",
    "    for i in range(len(data)): #loop the array\n",
    "        for j in range(0,len(data)-i-1): #loop for comparing\n",
    "            if data[j]>data[j+1]:\n",
    "                k=data[j]\n",
    "                data[j]=data[j+1]\n",
    "                data[j+1]=k\n",
    "                \n",
    "            "
   ]
  },
  {
   "cell_type": "code",
   "execution_count": 38,
   "id": "4ef26759",
   "metadata": {},
   "outputs": [],
   "source": [
    "bubble_sort(data)"
   ]
  },
  {
   "cell_type": "code",
   "execution_count": 39,
   "id": "947ec49b",
   "metadata": {},
   "outputs": [
    {
     "name": "stdout",
     "output_type": "stream",
     "text": [
      "[-54, -11, -2, 4, 10, 12, 20, 40]\n"
     ]
    }
   ],
   "source": [
    "print(data)"
   ]
  },
  {
   "cell_type": "code",
   "execution_count": null,
   "id": "60cc3c26",
   "metadata": {},
   "outputs": [],
   "source": []
  }
 ],
 "metadata": {
  "kernelspec": {
   "display_name": "Python 3 (ipykernel)",
   "language": "python",
   "name": "python3"
  },
  "language_info": {
   "codemirror_mode": {
    "name": "ipython",
    "version": 3
   },
   "file_extension": ".py",
   "mimetype": "text/x-python",
   "name": "python",
   "nbconvert_exporter": "python",
   "pygments_lexer": "ipython3",
   "version": "3.9.17"
  }
 },
 "nbformat": 4,
 "nbformat_minor": 5
}

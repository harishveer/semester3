{
 "cells": [
  {
   "cell_type": "markdown",
   "id": "95da933e",
   "metadata": {},
   "source": [
    "# FOR LOOP"
   ]
  },
  {
   "cell_type": "code",
   "execution_count": 2,
   "id": "52fabe29",
   "metadata": {},
   "outputs": [],
   "source": [
    "lis=[1,2,3,4,5,6]"
   ]
  },
  {
   "cell_type": "code",
   "execution_count": 4,
   "id": "d27a0381",
   "metadata": {},
   "outputs": [
    {
     "name": "stdout",
     "output_type": "stream",
     "text": [
      "the step is 1\n",
      "the step is 2\n",
      "the step is 3\n",
      "the step is 4\n",
      "the step is 5\n",
      "the step is 6\n"
     ]
    }
   ],
   "source": [
    "for step in lis:\n",
    "    print(f\"the step is {step}\")"
   ]
  },
  {
   "cell_type": "code",
   "execution_count": 8,
   "id": "ef4e3b35",
   "metadata": {},
   "outputs": [
    {
     "name": "stdout",
     "output_type": "stream",
     "text": [
      "Enter the number of items purchased:5\n",
      "enter product name:pen\n",
      "enter product name:pencil\n",
      "enter product name:scale\n",
      "enter product name:eraser\n",
      "enter product name:box\n"
     ]
    }
   ],
   "source": [
    "prod_name=[]\n",
    "total_item=int(input(\"Enter the number of items purchased:\"))\n",
    "for item in range(0,total_item):\n",
    "    prod_name.append(input(\"enter product name:\"))"
   ]
  },
  {
   "cell_type": "code",
   "execution_count": 9,
   "id": "b458c8df",
   "metadata": {},
   "outputs": [
    {
     "data": {
      "text/plain": [
       "['pen', 'pencil', 'scale', 'eraser', 'box']"
      ]
     },
     "execution_count": 9,
     "metadata": {},
     "output_type": "execute_result"
    }
   ],
   "source": [
    "prod_name"
   ]
  },
  {
   "cell_type": "code",
   "execution_count": 1,
   "id": "b21bb647",
   "metadata": {},
   "outputs": [
    {
     "ename": "SyntaxError",
     "evalue": "invalid syntax (1017457412.py, line 1)",
     "output_type": "error",
     "traceback": [
      "\u001b[1;36m  Cell \u001b[1;32mIn[1], line 1\u001b[1;36m\u001b[0m\n\u001b[1;33m    while <condition>:\u001b[0m\n\u001b[1;37m          ^\u001b[0m\n\u001b[1;31mSyntaxError\u001b[0m\u001b[1;31m:\u001b[0m invalid syntax\n"
     ]
    }
   ],
   "source": [
    "while <condition>:\n",
    "    <statements>\n",
    "count  \n",
    "    "
   ]
  },
  {
   "cell_type": "markdown",
   "id": "43df476c",
   "metadata": {},
   "source": [
    "# WHILE LOOP"
   ]
  },
  {
   "cell_type": "code",
   "execution_count": 13,
   "id": "d8547761",
   "metadata": {},
   "outputs": [
    {
     "name": "stdout",
     "output_type": "stream",
     "text": [
      "enter number:4\n",
      "0mano \n",
      "1mano \n",
      "1mano \n",
      "2mano \n",
      "3mano \n"
     ]
    }
   ],
   "source": [
    "n=int(input(\"enter number:\"))\n",
    "n1=0\n",
    "n2=1\n",
    "n3=0\n",
    "count=1\n",
    "while n3<=n:\n",
    "    print(n3,end=\"mano \\n\")\n",
    "    count+=1\n",
    "    n1=n2\n",
    "    n2=n3\n",
    "    n3=n1+n2\n",
    "     "
   ]
  },
  {
   "cell_type": "code",
   "execution_count": null,
   "id": "bb1dae28",
   "metadata": {},
   "outputs": [],
   "source": []
  }
 ],
 "metadata": {
  "kernelspec": {
   "display_name": "Python 3 (ipykernel)",
   "language": "python",
   "name": "python3"
  },
  "language_info": {
   "codemirror_mode": {
    "name": "ipython",
    "version": 3
   },
   "file_extension": ".py",
   "mimetype": "text/x-python",
   "name": "python",
   "nbconvert_exporter": "python",
   "pygments_lexer": "ipython3",
   "version": "3.9.17"
  }
 },
 "nbformat": 4,
 "nbformat_minor": 5
}

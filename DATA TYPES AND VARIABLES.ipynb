{
 "cells": [
  {
   "cell_type": "code",
   "execution_count": null,
   "id": "74c68ebc",
   "metadata": {},
   "outputs": [],
   "source": [
    "lis=[1,2,3,4]"
   ]
  },
  {
   "cell_type": "code",
   "execution_count": 7,
   "id": "73505a0c",
   "metadata": {
    "scrolled": true
   },
   "outputs": [
    {
     "data": {
      "text/plain": [
       "type"
      ]
     },
     "execution_count": 7,
     "metadata": {},
     "output_type": "execute_result"
    }
   ],
   "source": [
    "type(list)"
   ]
  },
  {
   "cell_type": "code",
   "execution_count": 13,
   "id": "832af89b",
   "metadata": {},
   "outputs": [],
   "source": [
    "c=range(10,100)"
   ]
  },
  {
   "cell_type": "code",
   "execution_count": 14,
   "id": "9d786eb6",
   "metadata": {},
   "outputs": [
    {
     "data": {
      "text/plain": [
       "range(10, 100)"
      ]
     },
     "execution_count": 14,
     "metadata": {},
     "output_type": "execute_result"
    }
   ],
   "source": [
    "c"
   ]
  },
  {
   "cell_type": "code",
   "execution_count": null,
   "id": "34cfc208",
   "metadata": {},
   "outputs": [],
   "source": [
    "A=12"
   ]
  },
  {
   "cell_type": "code",
   "execution_count": null,
   "id": "7bd6149a",
   "metadata": {},
   "outputs": [],
   "source": [
    "B=43"
   ]
  },
  {
   "cell_type": "code",
   "execution_count": null,
   "id": "67f49d64",
   "metadata": {},
   "outputs": [],
   "source": [
    "c=a+b"
   ]
  },
  {
   "cell_type": "code",
   "execution_count": 15,
   "id": "8cc7c0d3",
   "metadata": {},
   "outputs": [
    {
     "data": {
      "text/plain": [
       "range(10, 100)"
      ]
     },
     "execution_count": 15,
     "metadata": {},
     "output_type": "execute_result"
    }
   ],
   "source": [
    "c"
   ]
  },
  {
   "cell_type": "code",
   "execution_count": 1,
   "id": "0187f231",
   "metadata": {},
   "outputs": [
    {
     "name": "stdout",
     "output_type": "stream",
     "text": [
      "Requirement already satisfied: numpy in c:\\users\\aedpu\\anaconda3\\new folder\\envs\\gokulragesh\\lib\\site-packages (1.25.2)\n",
      "Note: you may need to restart the kernel to use updated packages.\n"
     ]
    }
   ],
   "source": [
    "pip install numpy"
   ]
  },
  {
   "cell_type": "code",
   "execution_count": 2,
   "id": "57c7bb0b",
   "metadata": {},
   "outputs": [],
   "source": [
    "import numpy as n"
   ]
  },
  {
   "cell_type": "code",
   "execution_count": 3,
   "id": "f6f2d2db",
   "metadata": {},
   "outputs": [],
   "source": [
    "a=n.array([1,2])"
   ]
  },
  {
   "cell_type": "code",
   "execution_count": 4,
   "id": "331053fc",
   "metadata": {},
   "outputs": [
    {
     "data": {
      "text/plain": [
       "numpy.ndarray"
      ]
     },
     "execution_count": 4,
     "metadata": {},
     "output_type": "execute_result"
    }
   ],
   "source": [
    "type(a)"
   ]
  },
  {
   "cell_type": "code",
   "execution_count": 6,
   "id": "d7f4eee9",
   "metadata": {
    "scrolled": true
   },
   "outputs": [
    {
     "data": {
      "text/plain": [
       "[10,\n",
       " 11,\n",
       " 12,\n",
       " 13,\n",
       " 14,\n",
       " 15,\n",
       " 16,\n",
       " 17,\n",
       " 18,\n",
       " 19,\n",
       " 20,\n",
       " 21,\n",
       " 22,\n",
       " 23,\n",
       " 24,\n",
       " 25,\n",
       " 26,\n",
       " 27,\n",
       " 28,\n",
       " 29,\n",
       " 30,\n",
       " 31,\n",
       " 32,\n",
       " 33,\n",
       " 34,\n",
       " 35,\n",
       " 36,\n",
       " 37,\n",
       " 38,\n",
       " 39,\n",
       " 40,\n",
       " 41,\n",
       " 42,\n",
       " 43,\n",
       " 44,\n",
       " 45,\n",
       " 46,\n",
       " 47,\n",
       " 48,\n",
       " 49,\n",
       " 50,\n",
       " 51,\n",
       " 52,\n",
       " 53,\n",
       " 54,\n",
       " 55,\n",
       " 56,\n",
       " 57,\n",
       " 58,\n",
       " 59,\n",
       " 60,\n",
       " 61,\n",
       " 62,\n",
       " 63,\n",
       " 64,\n",
       " 65,\n",
       " 66,\n",
       " 67,\n",
       " 68,\n",
       " 69,\n",
       " 70,\n",
       " 71,\n",
       " 72,\n",
       " 73,\n",
       " 74,\n",
       " 75,\n",
       " 76,\n",
       " 77,\n",
       " 78,\n",
       " 79,\n",
       " 80,\n",
       " 81,\n",
       " 82,\n",
       " 83,\n",
       " 84,\n",
       " 85,\n",
       " 86,\n",
       " 87,\n",
       " 88,\n",
       " 89,\n",
       " 90,\n",
       " 91,\n",
       " 92,\n",
       " 93,\n",
       " 94,\n",
       " 95,\n",
       " 96,\n",
       " 97,\n",
       " 98,\n",
       " 99]"
      ]
     },
     "execution_count": 6,
     "metadata": {},
     "output_type": "execute_result"
    }
   ],
   "source": [
    "list(range(10,100))"
   ]
  },
  {
   "cell_type": "code",
   "execution_count": 9,
   "id": "048dea94",
   "metadata": {},
   "outputs": [],
   "source": [
    "l1=[\"gokul\",10,5+2j]"
   ]
  },
  {
   "cell_type": "code",
   "execution_count": 12,
   "id": "a0cf75e3",
   "metadata": {},
   "outputs": [
    {
     "data": {
      "text/plain": [
       "['gokul', 10, (5+2j)]"
      ]
     },
     "execution_count": 12,
     "metadata": {},
     "output_type": "execute_result"
    }
   ],
   "source": [
    "l1"
   ]
  },
  {
   "cell_type": "code",
   "execution_count": 13,
   "id": "c8f97898",
   "metadata": {},
   "outputs": [],
   "source": [
    "l1.append(10)"
   ]
  },
  {
   "cell_type": "code",
   "execution_count": 14,
   "id": "5abe6604",
   "metadata": {},
   "outputs": [
    {
     "data": {
      "text/plain": [
       "['gokul', 10, (5+2j), 10]"
      ]
     },
     "execution_count": 14,
     "metadata": {},
     "output_type": "execute_result"
    }
   ],
   "source": [
    "l1"
   ]
  },
  {
   "cell_type": "code",
   "execution_count": 2,
   "id": "1bd68ab9",
   "metadata": {},
   "outputs": [],
   "source": [
    "NAMES={1:'NITHIN',2:'GOKUL',3:'MANO',4:'HARISH'}"
   ]
  },
  {
   "cell_type": "code",
   "execution_count": 3,
   "id": "56415dc9",
   "metadata": {},
   "outputs": [
    {
     "data": {
      "text/plain": [
       "dict"
      ]
     },
     "execution_count": 3,
     "metadata": {},
     "output_type": "execute_result"
    }
   ],
   "source": [
    "type(NAMES)"
   ]
  },
  {
   "cell_type": "code",
   "execution_count": 4,
   "id": "3648fdfb",
   "metadata": {},
   "outputs": [
    {
     "data": {
      "text/plain": [
       "dict_values(['NITHIN', 'GOKUL', 'MANO', 'HARISH'])"
      ]
     },
     "execution_count": 4,
     "metadata": {},
     "output_type": "execute_result"
    }
   ],
   "source": [
    "NAMES.values()"
   ]
  },
  {
   "cell_type": "code",
   "execution_count": 5,
   "id": "90c69f3d",
   "metadata": {},
   "outputs": [
    {
     "data": {
      "text/plain": [
       "dict_keys([1, 2, 3, 4])"
      ]
     },
     "execution_count": 5,
     "metadata": {},
     "output_type": "execute_result"
    }
   ],
   "source": [
    "NAMES.keys()"
   ]
  },
  {
   "cell_type": "code",
   "execution_count": 6,
   "id": "2f385b4c",
   "metadata": {},
   "outputs": [
    {
     "data": {
      "text/plain": [
       "'NITHIN'"
      ]
     },
     "execution_count": 6,
     "metadata": {},
     "output_type": "execute_result"
    }
   ],
   "source": [
    "NAMES[1]"
   ]
  },
  {
   "cell_type": "code",
   "execution_count": 7,
   "id": "4e0b07e5",
   "metadata": {},
   "outputs": [
    {
     "data": {
      "text/plain": [
       "'GOKUL'"
      ]
     },
     "execution_count": 7,
     "metadata": {},
     "output_type": "execute_result"
    }
   ],
   "source": [
    "NAMES[2]"
   ]
  },
  {
   "cell_type": "code",
   "execution_count": 8,
   "id": "3019bb04",
   "metadata": {},
   "outputs": [
    {
     "data": {
      "text/plain": [
       "'MANO'"
      ]
     },
     "execution_count": 8,
     "metadata": {},
     "output_type": "execute_result"
    }
   ],
   "source": [
    "NAMES[3]"
   ]
  },
  {
   "cell_type": "code",
   "execution_count": 9,
   "id": "4b1b2af7",
   "metadata": {},
   "outputs": [
    {
     "data": {
      "text/plain": [
       "'HARISH'"
      ]
     },
     "execution_count": 9,
     "metadata": {},
     "output_type": "execute_result"
    }
   ],
   "source": [
    "NAMES[4]"
   ]
  },
  {
   "cell_type": "code",
   "execution_count": 12,
   "id": "c1eb5133",
   "metadata": {},
   "outputs": [],
   "source": [
    "NAMES[1]=\"SURYA\""
   ]
  },
  {
   "cell_type": "code",
   "execution_count": 13,
   "id": "f9267b67",
   "metadata": {},
   "outputs": [
    {
     "data": {
      "text/plain": [
       "{1: 'SURYA', 2: 'GOKUL', 3: 'MANO', 4: 'HARISH'}"
      ]
     },
     "execution_count": 13,
     "metadata": {},
     "output_type": "execute_result"
    }
   ],
   "source": [
    "NAMES"
   ]
  },
  {
   "cell_type": "code",
   "execution_count": 15,
   "id": "78bc9743",
   "metadata": {},
   "outputs": [],
   "source": [
    "NAMES[2]=\"BALA\""
   ]
  },
  {
   "cell_type": "code",
   "execution_count": 16,
   "id": "30c33f74",
   "metadata": {},
   "outputs": [
    {
     "data": {
      "text/plain": [
       "{1: 'SURYA', 2: 'BALA', 3: 'MANO', 4: 'HARISH'}"
      ]
     },
     "execution_count": 16,
     "metadata": {},
     "output_type": "execute_result"
    }
   ],
   "source": [
    "NAMES"
   ]
  },
  {
   "cell_type": "code",
   "execution_count": 28,
   "id": "b0f558f5",
   "metadata": {},
   "outputs": [],
   "source": [
    "DETAIL={\"NAMES\":\"SURYA\",\"AGE\":20,\"BG\":\"A+VE\"}"
   ]
  },
  {
   "cell_type": "code",
   "execution_count": 29,
   "id": "434a99bf",
   "metadata": {},
   "outputs": [
    {
     "data": {
      "text/plain": [
       "{'NAMES': 'SURYA', 'AGE': 20, 'BG': 'A+VE'}"
      ]
     },
     "execution_count": 29,
     "metadata": {},
     "output_type": "execute_result"
    }
   ],
   "source": [
    "DETAIL"
   ]
  },
  {
   "cell_type": "code",
   "execution_count": 30,
   "id": "e590a516",
   "metadata": {},
   "outputs": [
    {
     "data": {
      "text/plain": [
       "'SURYA'"
      ]
     },
     "execution_count": 30,
     "metadata": {},
     "output_type": "execute_result"
    }
   ],
   "source": [
    "DETAIL[\"NAMES\"]"
   ]
  },
  {
   "cell_type": "code",
   "execution_count": 31,
   "id": "6842962f",
   "metadata": {},
   "outputs": [
    {
     "data": {
      "text/plain": [
       "3"
      ]
     },
     "execution_count": 31,
     "metadata": {},
     "output_type": "execute_result"
    }
   ],
   "source": [
    "len(DETAIL)"
   ]
  },
  {
   "cell_type": "code",
   "execution_count": 33,
   "id": "9d539640",
   "metadata": {},
   "outputs": [
    {
     "data": {
      "text/plain": [
       "'SURYA'"
      ]
     },
     "execution_count": 33,
     "metadata": {},
     "output_type": "execute_result"
    }
   ],
   "source": [
    "DETAIL.pop('NAMES')"
   ]
  },
  {
   "cell_type": "code",
   "execution_count": 37,
   "id": "61761b70",
   "metadata": {},
   "outputs": [],
   "source": [
    "DETAIL2={\"SURYA:20\",\"BALA:19\",\"MANO:18\"}"
   ]
  },
  {
   "cell_type": "code",
   "execution_count": 38,
   "id": "3fc4e860",
   "metadata": {},
   "outputs": [
    {
     "data": {
      "text/plain": [
       "set"
      ]
     },
     "execution_count": 38,
     "metadata": {},
     "output_type": "execute_result"
    }
   ],
   "source": [
    "type(DETAIL2)"
   ]
  },
  {
   "cell_type": "code",
   "execution_count": 39,
   "id": "6d1e0735",
   "metadata": {},
   "outputs": [
    {
     "data": {
      "text/plain": [
       "{'BALA:19', 'MANO:18', 'SURYA:20'}"
      ]
     },
     "execution_count": 39,
     "metadata": {},
     "output_type": "execute_result"
    }
   ],
   "source": [
    "DETAIL2"
   ]
  },
  {
   "cell_type": "code",
   "execution_count": null,
   "id": "4c65cadc",
   "metadata": {},
   "outputs": [],
   "source": [
    "DETAIL.add(\"BALA\")"
   ]
  },
  {
   "cell_type": "code",
   "execution_count": 40,
   "id": "914aff0e",
   "metadata": {},
   "outputs": [
    {
     "data": {
      "text/plain": [
       "{'BALA:19', 'MANO:18', 'SURYA:20'}"
      ]
     },
     "execution_count": 40,
     "metadata": {},
     "output_type": "execute_result"
    }
   ],
   "source": [
    "DETAIL2"
   ]
  },
  {
   "cell_type": "code",
   "execution_count": null,
   "id": "5c5c72b9",
   "metadata": {},
   "outputs": [],
   "source": [
    "DETAIL.update({\"BALA\",\"MANO\"})"
   ]
  },
  {
   "cell_type": "code",
   "execution_count": 41,
   "id": "cb2e3d3e",
   "metadata": {},
   "outputs": [
    {
     "data": {
      "text/plain": [
       "{'BALA:19', 'MANO:18', 'SURYA:20'}"
      ]
     },
     "execution_count": 41,
     "metadata": {},
     "output_type": "execute_result"
    }
   ],
   "source": [
    "DETAIL2"
   ]
  },
  {
   "cell_type": "code",
   "execution_count": 48,
   "id": "e880bf1c",
   "metadata": {},
   "outputs": [],
   "source": [
    "DETAIL3=frozenset({\"BALA\",\"SURYA\"})"
   ]
  },
  {
   "cell_type": "code",
   "execution_count": 49,
   "id": "42d04f77",
   "metadata": {},
   "outputs": [
    {
     "data": {
      "text/plain": [
       "frozenset"
      ]
     },
     "execution_count": 49,
     "metadata": {},
     "output_type": "execute_result"
    }
   ],
   "source": [
    "type(DETAIL3)"
   ]
  },
  {
   "cell_type": "code",
   "execution_count": 53,
   "id": "7aa47ef6",
   "metadata": {},
   "outputs": [
    {
     "data": {
      "text/plain": [
       "True"
      ]
     },
     "execution_count": 53,
     "metadata": {},
     "output_type": "execute_result"
    }
   ],
   "source": [
    "a=45\n",
    "b=27\n",
    "a>b"
   ]
  },
  {
   "cell_type": "code",
   "execution_count": null,
   "id": "f0a14184",
   "metadata": {},
   "outputs": [],
   "source": []
  },
  {
   "cell_type": "code",
   "execution_count": null,
   "id": "83938513",
   "metadata": {},
   "outputs": [],
   "source": []
  },
  {
   "cell_type": "code",
   "execution_count": null,
   "id": "d61b6eb9",
   "metadata": {},
   "outputs": [],
   "source": []
  }
 ],
 "metadata": {
  "kernelspec": {
   "display_name": "Python 3 (ipykernel)",
   "language": "python",
   "name": "python3"
  },
  "language_info": {
   "codemirror_mode": {
    "name": "ipython",
    "version": 3
   },
   "file_extension": ".py",
   "mimetype": "text/x-python",
   "name": "python",
   "nbconvert_exporter": "python",
   "pygments_lexer": "ipython3",
   "version": "3.9.17"
  }
 },
 "nbformat": 4,
 "nbformat_minor": 5
}
